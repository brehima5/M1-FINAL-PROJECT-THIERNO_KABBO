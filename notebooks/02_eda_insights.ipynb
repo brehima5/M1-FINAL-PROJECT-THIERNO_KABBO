{
 "cells": [
  {
   "cell_type": "code",
   "execution_count": 89,
   "id": "1ba025cf",
   "metadata": {},
   "outputs": [],
   "source": [
    "#Import all required libraries\n",
    "import pandas as pd\n",
    "import numpy as np\n",
    "import matplotlib.pyplot as plt\n",
    "import seaborn as sns\n"
   ]
  },
  {
   "cell_type": "markdown",
   "id": "653b56b5",
   "metadata": {},
   "source": [
    "Questions we are answering:\n",
    "1. Create basic summary table (Done)\n",
    "2. Which month has the highest revenue? (Done)\n",
    "3. Which day has the highest revenue? (Done)\n",
    "4. Is revenue higher on weekdays or weekends?\n",
    "5. What are the top selling products?\n",
    "6. Correlation between Location and Payment Method? (Optional) -- We will drop all NA and look at the analysis\n",
    "-- Above and Beyond --\n",
    "7. Create a column for \"Weekend vs Weekday\" based on Transaction Date.\n",
    "8. Create a \"High Value Transaction\" flag for sales over a certain threshold.\n",
    "9. Create a \"Sales Category\" (e.g., small orders vs large orders based on quantity)."
   ]
  },
  {
   "cell_type": "code",
   "execution_count": 90,
   "id": "e1b7dbe6",
   "metadata": {},
   "outputs": [],
   "source": [
    "df = pd.read_csv('/Users/kabbo/Desktop/marcy/Project 2 Cafe Sales/M1-FINAL-PROJECT-THIERNO_KABBO/data/cleaned/cleaned_cafe_sales.csv')\n",
    "pd.set_option(\"display.max_rows\",500)\n",
    "pd.set_option(\"display.max_columns\",500)"
   ]
  },
  {
   "cell_type": "code",
   "execution_count": 91,
   "id": "ee015597",
   "metadata": {},
   "outputs": [
    {
     "name": "stdout",
     "output_type": "stream",
     "text": [
      "Summary statistics:\n",
      "       Transaction ID   Item  Payment Method  Location Transaction Date\n",
      "count            9540   9540            6525      5761             9540\n",
      "unique           9540      9               3         2              365\n",
      "top       TXN_1961373  Juice  Digital Wallet  Takeaway       2023-02-06\n",
      "freq                1   1124            2197      2889               40\n"
     ]
    }
   ],
   "source": [
    "#1. Create basic summary table (Done)\n",
    "\n",
    "# Get summary statistics for numerical columns\n",
    "print(\"Summary statistics:\")\n",
    "df.describe()\n",
    "print(df.describe(include=object))\n"
   ]
  },
  {
   "cell_type": "code",
   "execution_count": 92,
   "id": "7486e7d7",
   "metadata": {},
   "outputs": [
    {
     "data": {
      "text/html": [
       "<div>\n",
       "<style scoped>\n",
       "    .dataframe tbody tr th:only-of-type {\n",
       "        vertical-align: middle;\n",
       "    }\n",
       "\n",
       "    .dataframe tbody tr th {\n",
       "        vertical-align: top;\n",
       "    }\n",
       "\n",
       "    .dataframe thead th {\n",
       "        text-align: right;\n",
       "    }\n",
       "</style>\n",
       "<table border=\"1\" class=\"dataframe\">\n",
       "  <thead>\n",
       "    <tr style=\"text-align: right;\">\n",
       "      <th></th>\n",
       "      <th>Transaction ID</th>\n",
       "      <th>Item</th>\n",
       "      <th>Quantity</th>\n",
       "      <th>Price Per Unit</th>\n",
       "      <th>Total Spent</th>\n",
       "      <th>Payment Method</th>\n",
       "      <th>Location</th>\n",
       "      <th>Transaction Date</th>\n",
       "    </tr>\n",
       "  </thead>\n",
       "  <tbody>\n",
       "    <tr>\n",
       "      <th>0</th>\n",
       "      <td>TXN_1961373</td>\n",
       "      <td>Coffee</td>\n",
       "      <td>2</td>\n",
       "      <td>2.0</td>\n",
       "      <td>4.0</td>\n",
       "      <td>Credit Card</td>\n",
       "      <td>Takeaway</td>\n",
       "      <td>2023-09-08</td>\n",
       "    </tr>\n",
       "    <tr>\n",
       "      <th>1</th>\n",
       "      <td>TXN_4977031</td>\n",
       "      <td>Cake</td>\n",
       "      <td>4</td>\n",
       "      <td>3.0</td>\n",
       "      <td>12.0</td>\n",
       "      <td>Cash</td>\n",
       "      <td>In-store</td>\n",
       "      <td>2023-05-16</td>\n",
       "    </tr>\n",
       "    <tr>\n",
       "      <th>2</th>\n",
       "      <td>TXN_4271903</td>\n",
       "      <td>Cookie</td>\n",
       "      <td>4</td>\n",
       "      <td>1.0</td>\n",
       "      <td>4.0</td>\n",
       "      <td>Credit Card</td>\n",
       "      <td>In-store</td>\n",
       "      <td>2023-07-19</td>\n",
       "    </tr>\n",
       "    <tr>\n",
       "      <th>3</th>\n",
       "      <td>TXN_7034554</td>\n",
       "      <td>Salad</td>\n",
       "      <td>2</td>\n",
       "      <td>5.0</td>\n",
       "      <td>10.0</td>\n",
       "      <td>NaN</td>\n",
       "      <td>NaN</td>\n",
       "      <td>2023-04-27</td>\n",
       "    </tr>\n",
       "    <tr>\n",
       "      <th>4</th>\n",
       "      <td>TXN_3160411</td>\n",
       "      <td>Coffee</td>\n",
       "      <td>2</td>\n",
       "      <td>2.0</td>\n",
       "      <td>4.0</td>\n",
       "      <td>Digital Wallet</td>\n",
       "      <td>In-store</td>\n",
       "      <td>2023-06-11</td>\n",
       "    </tr>\n",
       "  </tbody>\n",
       "</table>\n",
       "</div>"
      ],
      "text/plain": [
       "  Transaction ID    Item  Quantity  Price Per Unit  Total Spent  \\\n",
       "0    TXN_1961373  Coffee         2             2.0          4.0   \n",
       "1    TXN_4977031    Cake         4             3.0         12.0   \n",
       "2    TXN_4271903  Cookie         4             1.0          4.0   \n",
       "3    TXN_7034554   Salad         2             5.0         10.0   \n",
       "4    TXN_3160411  Coffee         2             2.0          4.0   \n",
       "\n",
       "   Payment Method  Location Transaction Date  \n",
       "0     Credit Card  Takeaway       2023-09-08  \n",
       "1            Cash  In-store       2023-05-16  \n",
       "2     Credit Card  In-store       2023-07-19  \n",
       "3             NaN       NaN       2023-04-27  \n",
       "4  Digital Wallet  In-store       2023-06-11  "
      ]
     },
     "execution_count": 92,
     "metadata": {},
     "output_type": "execute_result"
    }
   ],
   "source": [
    "df.head()"
   ]
  },
  {
   "cell_type": "code",
   "execution_count": 93,
   "id": "172c00dc",
   "metadata": {},
   "outputs": [
    {
     "name": "stdout",
     "output_type": "stream",
     "text": [
      "    month  Total Spent\n",
      "5       6  7411.147988\n",
      "9      10  7345.297401\n",
      "0       1  7250.997782\n",
      "11     12  7213.147354\n",
      "2       3  7208.147671\n",
      "3       4  7188.948558\n",
      "7       8  7095.098130\n",
      "10     11  7014.698004\n",
      "4       5  6971.397750\n",
      "6       7  6921.598130\n",
      "8       9  6880.148146\n",
      "1       2  6667.198162\n"
     ]
    }
   ],
   "source": [
    "#2. Which month has the highest revenue? (Done)\n",
    "\n",
    "df['Transaction Date'] = pd.to_datetime(df['Transaction Date'], errors='coerce')\n",
    "\n",
    "# Extract time components\n",
    "df['year'] = df['Transaction Date'].dt.year\n",
    "df['month'] = df['Transaction Date'].dt.month\n",
    "\n",
    "# Monthly sales trends\n",
    "monthly_sales = df.groupby('month')['Total Spent'].agg('sum').reset_index()\n",
    "monthly_sales.columns = ['month', 'Total Spent']\n",
    "\n",
    "monthly_sales_sorted = monthly_sales.sort_values('Total Spent', ascending=False)\n",
    "print(monthly_sales_sorted)"
   ]
  },
  {
   "cell_type": "code",
   "execution_count": 94,
   "id": "0b9ee41c",
   "metadata": {},
   "outputs": [
    {
     "name": "stdout",
     "output_type": "stream",
     "text": [
      "  day_of_week   Total Spent\n",
      "3      Sunday  12420.646403\n",
      "4    Thursday  12382.646403\n",
      "0      Friday  12335.645928\n",
      "1      Monday  12192.896641\n",
      "5     Tuesday  12031.347100\n",
      "2    Saturday  12029.796609\n",
      "6   Wednesday  11774.845991\n"
     ]
    }
   ],
   "source": [
    "#3. Which day has the highest revenue? (Done)\n",
    "\n",
    "df['day_of_week'] = df['Transaction Date'].dt.day_name()\n",
    "\n",
    "# Daily sales trends\n",
    "daily_sales = df.groupby('day_of_week')['Total Spent'].agg('sum').reset_index()\n",
    "daily_sales.columns = ['day_of_week', 'Total Spent']\n",
    "\n",
    "#print(daily_sales)\n",
    "daily_sales_sorted = daily_sales.sort_values('Total Spent', ascending=False)\n",
    "print(daily_sales_sorted)"
   ]
  },
  {
   "cell_type": "code",
   "execution_count": null,
   "id": "5270138f",
   "metadata": {},
   "outputs": [],
   "source": [
    "# 4. Is revenue higher on weekdays or weekends?\n",
    "\n",
    "\n"
   ]
  }
 ],
 "metadata": {
  "kernelspec": {
   "display_name": "data-analysis-env",
   "language": "python",
   "name": "python3"
  },
  "language_info": {
   "codemirror_mode": {
    "name": "ipython",
    "version": 3
   },
   "file_extension": ".py",
   "mimetype": "text/x-python",
   "name": "python",
   "nbconvert_exporter": "python",
   "pygments_lexer": "ipython3",
   "version": "3.9.22"
  }
 },
 "nbformat": 4,
 "nbformat_minor": 5
}
